{
  "nbformat": 4,
  "nbformat_minor": 0,
  "metadata": {
    "colab": {
      "provenance": [],
      "collapsed_sections": [
        "JsmHNxwXxugT"
      ]
    },
    "kernelspec": {
      "name": "python3",
      "display_name": "Python 3"
    },
    "language_info": {
      "name": "python"
    }
  },
  "cells": [
    {
      "cell_type": "markdown",
      "source": [
        "# Análises estátisticas para o Banco Safra"
      ],
      "metadata": {
        "id": "wEz9ZFaZA4iY"
      }
    },
    {
      "cell_type": "markdown",
      "source": [
        "### Preparação"
      ],
      "metadata": {
        "id": "Fvk5qi01A8zP"
      }
    },
    {
      "cell_type": "code",
      "source": [
        "import numpy as np\n",
        "import pandas as pd\n",
        "import matplotlib.pyplot as plt\n",
        "from statistics import mode\n"
      ],
      "metadata": {
        "id": "pI7ESH83cgEv"
      },
      "execution_count": null,
      "outputs": []
    },
    {
      "cell_type": "code",
      "execution_count": null,
      "metadata": {
        "id": "DQzPm3u8YKgD"
      },
      "outputs": [],
      "source": [
        "dados_avaliacoes = pd.read_csv(\"/content/DadosAg0Manipulados.csv\", \n",
        "                   sep = ';', \n",
        "                   decimal= '.', \n",
        "                   encoding='latin1')"
      ]
    },
    {
      "cell_type": "code",
      "source": [
        "dados_avaliacoes"
      ],
      "metadata": {
        "id": "HtAPPbMwe9Ri"
      },
      "execution_count": null,
      "outputs": []
    },
    {
      "cell_type": "code",
      "source": [
        "dados_avaliacoes.describe()"
      ],
      "metadata": {
        "id": "lB4UupNne9ah"
      },
      "execution_count": null,
      "outputs": []
    },
    {
      "cell_type": "code",
      "source": [
        "dados_avaliacoes.shape"
      ],
      "metadata": {
        "id": "K9HSk8kS98qc"
      },
      "execution_count": null,
      "outputs": []
    },
    {
      "cell_type": "markdown",
      "source": [
        "#**Função para Análises Univariadas**\n"
      ],
      "metadata": {
        "id": "evh7j-IM1EVs"
      }
    },
    {
      "cell_type": "markdown",
      "source": [
        "Para a realização das análises univarias, o caminho mais prático e intuitivo é realizando a função abaixo:"
      ],
      "metadata": {
        "id": "3XC30hwT1VP_"
      }
    },
    {
      "cell_type": "code",
      "source": [
        "def analise_univariada(coluna):\n",
        "  if coluna not in dados_avaliacoes.columns:\n",
        "    print('Essa coluna não existe')\n",
        "  else:\n",
        "    df = dados_avaliacoes[[coluna]].reset_index(drop = True)\n",
        "    df['quantidade'] = 0\n",
        "    df_agg = df.groupby(coluna).count()\n",
        "    df_agg = df_agg.sort_values(['quantidade'], ascending=False).groupby(coluna).head(100)\n",
        "    print(df_agg)"
      ],
      "metadata": {
        "id": "1gr-od6Xg-Mo"
      },
      "execution_count": null,
      "outputs": []
    },
    {
      "cell_type": "markdown",
      "source": [
        "# **Análise 1:** Coluna de Página de saída. \n",
        "\n",
        "---\n",
        "\n",
        "\n",
        "\n",
        "---\n",
        "\n",
        "\n"
      ],
      "metadata": {
        "id": "tOsqg99q219X"
      }
    },
    {
      "cell_type": "markdown",
      "source": [
        "O intuito de realizar essa análise é conhecer quais funcionalidades dentro do AG0 que apresentam mais erros. Assim o banco pode realizar uma estratégia de correção e também entender onde gastar os recursos para melhoria."
      ],
      "metadata": {
        "id": "P5PGquc06tJP"
      }
    },
    {
      "cell_type": "code",
      "source": [
        "analise_univariada('paginaSaida')"
      ],
      "metadata": {
        "id": "xOquB18dj-3D",
        "colab": {
          "base_uri": "https://localhost:8080/"
        },
        "outputId": "3161674a-1a34-49bc-cc94-68ced7422898"
      },
      "execution_count": null,
      "outputs": [
        {
          "output_type": "stream",
          "name": "stdout",
          "text": [
            "             quantidade\n",
            "paginaSaida            \n",
            "1.0                 254\n",
            "3.0                 254\n",
            "2.0                 245\n",
            "0.0                 126\n",
            "4.0                 121\n"
          ]
        }
      ]
    },
    {
      "cell_type": "markdown",
      "source": [
        "Percebemos que as páginas 1, 2 e 3 apresentaram quantidades semelhantes, por volta de 250 contagens, enquanto as paginas 0 e 4 apresentaram metade disso, em torno de 150. Isso significa que o foco inicialmente maior do banco é corrigir as falhas apresentadas nas saídas da pagina 1, 2 e 3, que representam 753 usuários. "
      ],
      "metadata": {
        "id": "aZlPAZaW3G6P"
      }
    },
    {
      "cell_type": "markdown",
      "source": [
        "# **Análise 2:** Coluna de Avaliação. \n",
        "\n",
        "---\n",
        "\n"
      ],
      "metadata": {
        "id": "FBKBsthe3z3b"
      }
    },
    {
      "cell_type": "markdown",
      "source": [
        "Essa análise é praticamente um feedback dos usuários para o apolicativo do AG0. É importante que o banco saiba se as tentativas de melhoria do aplicativo estão impactando a análise da avaliação."
      ],
      "metadata": {
        "id": "6njiDqeL6wdM"
      }
    },
    {
      "cell_type": "code",
      "source": [
        "analise_univariada('avaliacao.r')"
      ],
      "metadata": {
        "id": "xqaXfOMLkbwa",
        "colab": {
          "base_uri": "https://localhost:8080/"
        },
        "outputId": "403d5b61-09a7-4b2e-b1ca-ad6a36578a76"
      },
      "execution_count": null,
      "outputs": [
        {
          "output_type": "stream",
          "name": "stdout",
          "text": [
            "             quantidade\n",
            "avaliacao.r            \n",
            "negativa            510\n",
            "positiva            251\n",
            "n/ avaliado         239\n"
          ]
        }
      ]
    },
    {
      "cell_type": "markdown",
      "source": [
        "Percebe-se que as avaliações negativas do aplicativo representam em torno de 50% de todo o banco de dados, um valor muito alto e um grande indicativo de que é necessário medidas para melhorar este quadro. Com os esforços do banco um melhor aplicativo, é imporante seguir de perto esta estatística para entender o quanto os recursos do banco estão impactando a avaliação."
      ],
      "metadata": {
        "id": "-u0BUzK34XVo"
      }
    },
    {
      "cell_type": "markdown",
      "source": [
        "# **Análise 3:** Coluna de Erro. "
      ],
      "metadata": {
        "id": "2EbhA1d243AV"
      }
    },
    {
      "cell_type": "markdown",
      "source": [
        "Essa análise é muito importante para auxiliar a equipe de TI do banco entender melhor quando e de que maneira os erros estão aparecendo para os usuários. Dessa maneira pode-se definir um ranking de prioridades e recursos para se trabalhar na melhoria do aplicativo AG0."
      ],
      "metadata": {
        "id": "Bez-ec0k6yvH"
      }
    },
    {
      "cell_type": "code",
      "source": [
        "analise_univariada('erro')"
      ],
      "metadata": {
        "id": "QkPnKTprkSO3"
      },
      "execution_count": null,
      "outputs": []
    },
    {
      "cell_type": "markdown",
      "source": [
        "A análise nos mostra que os três erros mais frequentes representam grande porcentagem do banco de dados e devem receber uma atenção especial. O que também fica evidente é que os erros que são passíveis por parte do usuário, como senha incorreta ou chave pix incorreta, são a minoria dos casos, o que evidencia que a maioria dos casos de erros podem ser evitados com uma melhoria das funcionalidades do aplicativo AG0."
      ],
      "metadata": {
        "id": "r5UDS-uo5Und"
      }
    },
    {
      "cell_type": "markdown",
      "source": [
        "# **Análise 4:** Coluna de código."
      ],
      "metadata": {
        "id": "t5-ter9N503m"
      }
    },
    {
      "cell_type": "markdown",
      "source": [
        "Nosso banco de dados apenas apresenta dois tipos de erros, 550 e 500. Sendo assim é muito importante conhecer o quanto cada um representa estatisticamente do nosso banco."
      ],
      "metadata": {
        "id": "U4c8IF4-7EJJ"
      }
    },
    {
      "cell_type": "code",
      "source": [
        "analise_univariada('codigo').count()"
      ],
      "metadata": {
        "id": "11-se-W9owT6"
      },
      "execution_count": null,
      "outputs": []
    },
    {
      "cell_type": "markdown",
      "source": [
        "Apesar de não haver uma grande disparidade da quantidade de códigos, há um pequeno indício de que o código 550 é mais comum, o que deve ser analisade pela equipe de TI interna do banco."
      ],
      "metadata": {
        "id": "YAV1T-Vm7iai"
      }
    },
    {
      "cell_type": "markdown",
      "source": [
        "# **Análise 5:** Coluna de Status Saída"
      ],
      "metadata": {
        "id": "lwIJGln9XHBR"
      }
    },
    {
      "cell_type": "markdown",
      "source": [
        "Nessa coluna, será feita um a validação estatística para entender o número de clientes que\n",
        "completam a jornada no aplicativo, para assim traçar um padrão de anomalias. "
      ],
      "metadata": {
        "id": "V79o7Z7TPMmu"
      }
    },
    {
      "cell_type": "code",
      "source": [
        "analise_univariada('statusSaida')"
      ],
      "metadata": {
        "colab": {
          "base_uri": "https://localhost:8080/"
        },
        "id": "U5OVwEPzXOHo",
        "outputId": "b55842ba-22bc-4718-c4dd-ebd12e7dbcf8"
      },
      "execution_count": null,
      "outputs": [
        {
          "output_type": "stream",
          "name": "stdout",
          "text": [
            "             quantidade\n",
            "statusSaida            \n",
            "1                  5260\n",
            "0,9                4581\n",
            "0,8                3740\n",
            "0                  1870\n",
            "0,5                1250\n",
            "0,1                 750\n",
            "0,2                 660\n",
            "0,7                 629\n",
            "0,3                 590\n",
            "0,4                 460\n",
            "0,6                 210\n"
          ]
        }
      ]
    },
    {
      "cell_type": "markdown",
      "source": [
        "# **Análise 6:** Coluna de tempoAcesso"
      ],
      "metadata": {
        "id": "MtWxDeX-mywo"
      }
    },
    {
      "cell_type": "markdown",
      "source": [
        "A análise dessa coluna busca encontrar os valores estatísticos do tempo de acesso dos usuários, como a média, o tempo mínimo e máximo e os quartis. "
      ],
      "metadata": {
        "id": "XFXRW9rmm9hp"
      }
    },
    {
      "cell_type": "code",
      "source": [
        "dados_avaliacoes['tempoAcesso'].describe()"
      ],
      "metadata": {
        "colab": {
          "base_uri": "https://localhost:8080/"
        },
        "id": "ivw5Io3WnKeu",
        "outputId": "d95e0fee-99f1-4bcf-b083-26c76c290080"
      },
      "execution_count": null,
      "outputs": [
        {
          "output_type": "execute_result",
          "data": {
            "text/plain": [
              "count    20000.000000\n",
              "mean       241.865050\n",
              "std        222.914245\n",
              "min          1.000000\n",
              "25%         56.000000\n",
              "50%        163.000000\n",
              "75%        365.000000\n",
              "max        900.000000\n",
              "Name: tempoAcesso, dtype: float64"
            ]
          },
          "metadata": {},
          "execution_count": 22
        }
      ]
    },
    {
      "cell_type": "markdown",
      "source": [
        "O que podemos perceber é uma média de tempo de acesso de 247 segundos, o que significa em torno de 4 minutos, já o valor mínimo é de 1 segundo e indica um erro logo no início da navegação. O terceiro quartil indica uma navegação de 322 segundos, já o tempo máximo é muito superior ao último quartil, sendo de 629 segundos, praticamente o dobro do quartil."
      ],
      "metadata": {
        "id": "o9am-TqznVnD"
      }
    },
    {
      "cell_type": "markdown",
      "source": [
        "# **Função para Análises Bivariadas**"
      ],
      "metadata": {
        "id": "3g3ZnHuL742N"
      }
    },
    {
      "cell_type": "markdown",
      "source": [
        "Para realizarmos as análises bivariadas, definimos a funcão abaixo:"
      ],
      "metadata": {
        "id": "oebG-_EJ77ms"
      }
    },
    {
      "cell_type": "code",
      "source": [
        "def analise_bivariada(coluna1, coluna2):\n",
        "  if coluna1 not in dados_avaliacoes.columns:\n",
        "    print('Coluna1 não existe')\n",
        "  elif coluna2 not in dados_avaliacoes.columns:\n",
        "    print('Coluna2 não existe')\n",
        "  else:\n",
        "    df = dados_avaliacoes[[coluna1, coluna2]].reset_index(drop = True)  \n",
        "    df['quantidade'] = 0\n",
        "    df_agg = df.groupby([coluna1, coluna2]).count()\n",
        "    df_agg = df_agg.sort_values([coluna1, 'quantidade'], ascending=False).groupby(coluna1).head(50)\n",
        "    return df_agg"
      ],
      "metadata": {
        "id": "VFV6d2Nwg-Yd"
      },
      "execution_count": null,
      "outputs": []
    },
    {
      "cell_type": "markdown",
      "source": [
        "# **Análise 7**: paginaSaída, avaliação"
      ],
      "metadata": {
        "id": "lLUoZbS58BKR"
      }
    },
    {
      "cell_type": "markdown",
      "source": [
        "Essa análise é importante para entender o quanto a experiência de navegação em cada página do aplicativo impacta na avaliação do usuário"
      ],
      "metadata": {
        "id": "kgCgHBn28Kmp"
      }
    },
    {
      "cell_type": "code",
      "source": [
        "analise_bivariada('paginaSaida', 'erro')"
      ],
      "metadata": {
        "id": "O8UGBSCxg-b9",
        "colab": {
          "base_uri": "https://localhost:8080/",
          "height": 1000
        },
        "outputId": "56b75af5-5d6f-4527-9c03-5b202376dd39"
      },
      "execution_count": null,
      "outputs": [
        {
          "output_type": "execute_result",
          "data": {
            "text/plain": [
              "                                                                quantidade\n",
              "paginaSaida erro                                                          \n",
              "4           DESCULPE TODOS NOSSOS ATENDENTES ESTÃO OCUPADO...        1850\n",
              "            CANAL DE ATENDIMENTO INDISPONÃVEL NO MOMENTO             1300\n",
              "            SUA SOLICITAÃÃO NÃO PODE SER ENVIADA, FAVOR ...        1100\n",
              "            IDENTIFICAMOS UM PROBLEMA INESPERADO E ENVIAMOS...         400\n",
              "            SUA SOLICITAÃÃO JÃ FOI ENVIADA, FAVOR NÃO R...         350\n",
              "            NO MOMENTO ESTE SERIVCO ESTA INDISPONIVEL. POR ...         282\n",
              "            ERRO INTERNO SERVIDOR                                      186\n",
              "            TIMEOUT                                                     98\n",
              "            BAD GATEWAY                                                 12\n",
              "3           ÃREA PIX INDISPONÃVEL NO MOMENTO                         810\n",
              "            PAGAMENTOS E TRANSFERÃNCIAS TEMPORARIAMENTE FO...         690\n",
              "            ERRO NA CONSULTA DE BOLETO ELETRÃNICO                     360\n",
              "            NO MOMENTO ESTE SERIVCO ESTA INDISPONIVEL. POR ...         301\n",
              "            NÃMERO DE IPTU INVÃLIDO, VERIFICAR DADOS INSE...         270\n",
              "            ÃREA DE EMPRÃSTIMO NÃO AUTORIZADA PARA USO, ...         270\n",
              "            NÃO FOI POSSÃVEL LER O CÃDIGO DE BARRAS, FAV...         210\n",
              "            ÃREA DE CARTÃES INDISPONÃVEL NO MOMENTO                 210\n",
              "            ERRO INTERNO SERVIDOR                                      179\n",
              "            NÃO FOI POSSÃVEL GERAR UM BOLETO NO MOMENTO              120\n",
              "            TIMEOUT                                                     76\n",
              "            NÃO FOI POSSÃVEL REALIZAR OPERAÃÃO \"Trazer ...          60\n",
              "            BAD GATEWAY                                                 10\n",
              "2           HISTÃRICO DE FATURAS NÃO DISPONÃVEL, TENTE N...         380\n",
              "            NO MOMENTO ESTE SERIVCO ESTA INDISPONIVEL. POR ...         308\n",
              "            DÃBITO AUTOMÃTICO NÃO PODE SER ATIVADO PARA ...         220\n",
              "            ERRO INTERNO SERVIDOR                                      189\n",
              "            CARTÃO NÃO SELECIONADO, POR FAVOR SELECIONE O...         180\n",
              "            NÃO FOI POSSÃVEL CANCELAR O CARTÃO NO MOMENT...         170\n",
              "            TIMEOUT                                                     88\n",
              "            SENHA PARA SAQUE SEM CARTÃO INVÃLIDA                      50\n",
              "            BAD GATEWAY                                                 11\n",
              "1           ÃREA DE TRANSFÃRENCIA INDISPONÃVEL NO MOMENTO.          920\n",
              "            LIMITE DIÃRIO DE TRANSFERÃNCIA EXCEDIDO.                 800\n",
              "            NÃO FOI POSSÃVEL OBTER SEU SALDO EM CONTA NO ...         600\n",
              "            CONTA DESTINO INCOMPLETA, FAVOR CONFIRMAR DADOS...         480\n",
              "            ÃREA DE EXTRATO INDISPONÃVEL NO MOMENTO.                 480\n",
              "            ÃREA DE PAGAMENTO INDISPONÃVEL NO MOMENTO.               440\n",
              "            NO MOMENTO ESTE SERIVCO ESTA INDISPONIVEL. POR ...         289\n",
              "            SALDO EM CONTA INSUFICIENTE, VERIFICAR VALOR.              280\n",
              "            ERRO INTERNO SERVIDOR                                      194\n",
              "            TIMEOUT                                                     88\n",
              "            BAD GATEWAY                                                 15\n",
              "0           TOKEN INCORRETO, POR FAVOR CONFIRMAR DADOS INSE...        1000\n",
              "            NÃO FOI POSSÃVEL AUTENTICAR O SEU ACESSO (Apl...         600\n",
              "            SENHA INCORRETA                                            600\n",
              "            ACESSO BLOQUEADO, PARA DESBLOQUEAR ENTRE EM CON...         400\n",
              "            E-MAIL OU CPF NÃO CADASTRADOS                             400\n",
              "            CPF OU CNPJ INVÃLIDO, CONFIRMAR DADOS INSERIDOS.          320\n",
              "            NO MOMENTO ESTE SERIVCO ESTA INDISPONIVEL. POR ...         320\n",
              "            ACESSO NEGADO, ENTRE EM CONTATO COM NOSSO CANAL...         200\n",
              "            VERSÃO DE APLICATIVO DESATUALIZADO, FAVOR REAL...         200\n",
              "            ERRO INTERNO SERVIDOR                                      182\n",
              "            NOME NÃO PODE TER CARACTERES ESPECIAIS                    160\n",
              "            TODOS OS CAMPOS DEVEM SER PREENCHIDOS PARA CONC...         120\n",
              "            TIMEOUT                                                    100\n",
              "            VERSÃO DE SISTEMA OPERACIONAL NÃO SUPORTADA               60\n",
              "            BAD GATEWAY                                                 12"
            ],
            "text/html": [
              "\n",
              "  <div id=\"df-b1def106-d997-4e1c-af93-e508161d2bfd\">\n",
              "    <div class=\"colab-df-container\">\n",
              "      <div>\n",
              "<style scoped>\n",
              "    .dataframe tbody tr th:only-of-type {\n",
              "        vertical-align: middle;\n",
              "    }\n",
              "\n",
              "    .dataframe tbody tr th {\n",
              "        vertical-align: top;\n",
              "    }\n",
              "\n",
              "    .dataframe thead th {\n",
              "        text-align: right;\n",
              "    }\n",
              "</style>\n",
              "<table border=\"1\" class=\"dataframe\">\n",
              "  <thead>\n",
              "    <tr style=\"text-align: right;\">\n",
              "      <th></th>\n",
              "      <th></th>\n",
              "      <th>quantidade</th>\n",
              "    </tr>\n",
              "    <tr>\n",
              "      <th>paginaSaida</th>\n",
              "      <th>erro</th>\n",
              "      <th></th>\n",
              "    </tr>\n",
              "  </thead>\n",
              "  <tbody>\n",
              "    <tr>\n",
              "      <th rowspan=\"9\" valign=\"top\">4</th>\n",
              "      <th>DESCULPE TODOS NOSSOS ATENDENTES ESTÃO OCUPADOS, ASSIM QUE POSSÃVEL ENTRAREMOS EM CONTATO</th>\n",
              "      <td>1850</td>\n",
              "    </tr>\n",
              "    <tr>\n",
              "      <th>CANAL DE ATENDIMENTO INDISPONÃVEL NO MOMENTO</th>\n",
              "      <td>1300</td>\n",
              "    </tr>\n",
              "    <tr>\n",
              "      <th>SUA SOLICITAÃÃO NÃO PODE SER ENVIADA, FAVOR VERIFICAR DADOS INSERIDOS</th>\n",
              "      <td>1100</td>\n",
              "    </tr>\n",
              "    <tr>\n",
              "      <th>IDENTIFICAMOS UM PROBLEMA INESPERADO E ENVIAMOS PARA NOSSO TIME TENTAR RESOLVER O QUANTO ANTES, ASSIM QUE POSSÃVEL ENTRAREMOS EM CONTATO.</th>\n",
              "      <td>400</td>\n",
              "    </tr>\n",
              "    <tr>\n",
              "      <th>SUA SOLICITAÃÃO JÃ FOI ENVIADA, FAVOR NÃO REPETIR OPERAÃÃO</th>\n",
              "      <td>350</td>\n",
              "    </tr>\n",
              "    <tr>\n",
              "      <th>NO MOMENTO ESTE SERIVCO ESTA INDISPONIVEL. POR FAVOR TENTE NOVAMENTE MAIS TARDE.</th>\n",
              "      <td>282</td>\n",
              "    </tr>\n",
              "    <tr>\n",
              "      <th>ERRO INTERNO SERVIDOR</th>\n",
              "      <td>186</td>\n",
              "    </tr>\n",
              "    <tr>\n",
              "      <th>TIMEOUT</th>\n",
              "      <td>98</td>\n",
              "    </tr>\n",
              "    <tr>\n",
              "      <th>BAD GATEWAY</th>\n",
              "      <td>12</td>\n",
              "    </tr>\n",
              "    <tr>\n",
              "      <th rowspan=\"13\" valign=\"top\">3</th>\n",
              "      <th>ÃREA PIX INDISPONÃVEL NO MOMENTO</th>\n",
              "      <td>810</td>\n",
              "    </tr>\n",
              "    <tr>\n",
              "      <th>PAGAMENTOS E TRANSFERÃNCIAS TEMPORARIAMENTE FORA DE SERVIÃO</th>\n",
              "      <td>690</td>\n",
              "    </tr>\n",
              "    <tr>\n",
              "      <th>ERRO NA CONSULTA DE BOLETO ELETRÃNICO</th>\n",
              "      <td>360</td>\n",
              "    </tr>\n",
              "    <tr>\n",
              "      <th>NO MOMENTO ESTE SERIVCO ESTA INDISPONIVEL. POR FAVOR TENTE NOVAMENTE MAIS TARDE.</th>\n",
              "      <td>301</td>\n",
              "    </tr>\n",
              "    <tr>\n",
              "      <th>NÃMERO DE IPTU INVÃLIDO, VERIFICAR DADOS INSERIDOS</th>\n",
              "      <td>270</td>\n",
              "    </tr>\n",
              "    <tr>\n",
              "      <th>ÃREA DE EMPRÃSTIMO NÃO AUTORIZADA PARA USO, CONSULTE O MOTIVO *AQUI*</th>\n",
              "      <td>270</td>\n",
              "    </tr>\n",
              "    <tr>\n",
              "      <th>NÃO FOI POSSÃVEL LER O CÃDIGO DE BARRAS, FAVOR DIGITAR SEQUÃNCIA NUMÃRICA.</th>\n",
              "      <td>210</td>\n",
              "    </tr>\n",
              "    <tr>\n",
              "      <th>ÃREA DE CARTÃES INDISPONÃVEL NO MOMENTO</th>\n",
              "      <td>210</td>\n",
              "    </tr>\n",
              "    <tr>\n",
              "      <th>ERRO INTERNO SERVIDOR</th>\n",
              "      <td>179</td>\n",
              "    </tr>\n",
              "    <tr>\n",
              "      <th>NÃO FOI POSSÃVEL GERAR UM BOLETO NO MOMENTO</th>\n",
              "      <td>120</td>\n",
              "    </tr>\n",
              "    <tr>\n",
              "      <th>TIMEOUT</th>\n",
              "      <td>76</td>\n",
              "    </tr>\n",
              "    <tr>\n",
              "      <th>NÃO FOI POSSÃVEL REALIZAR OPERAÃÃO \"Trazer salÃ¡rio\", TENTAR NOVAMENTE MAIS TARDE.</th>\n",
              "      <td>60</td>\n",
              "    </tr>\n",
              "    <tr>\n",
              "      <th>BAD GATEWAY</th>\n",
              "      <td>10</td>\n",
              "    </tr>\n",
              "    <tr>\n",
              "      <th rowspan=\"9\" valign=\"top\">2</th>\n",
              "      <th>HISTÃRICO DE FATURAS NÃO DISPONÃVEL, TENTE NOVAMENTE MAIS TARDE.</th>\n",
              "      <td>380</td>\n",
              "    </tr>\n",
              "    <tr>\n",
              "      <th>NO MOMENTO ESTE SERIVCO ESTA INDISPONIVEL. POR FAVOR TENTE NOVAMENTE MAIS TARDE.</th>\n",
              "      <td>308</td>\n",
              "    </tr>\n",
              "    <tr>\n",
              "      <th>DÃBITO AUTOMÃTICO NÃO PODE SER ATIVADO PARA ESTE TIPO DE PAGAMENTO</th>\n",
              "      <td>220</td>\n",
              "    </tr>\n",
              "    <tr>\n",
              "      <th>ERRO INTERNO SERVIDOR</th>\n",
              "      <td>189</td>\n",
              "    </tr>\n",
              "    <tr>\n",
              "      <th>CARTÃO NÃO SELECIONADO, POR FAVOR SELECIONE O CARTÃO Ã REALIZAR OPERAÃÃO</th>\n",
              "      <td>180</td>\n",
              "    </tr>\n",
              "    <tr>\n",
              "      <th>NÃO FOI POSSÃVEL CANCELAR O CARTÃO NO MOMENTO, FAVOR ENTRE EM CONTATO COM O NOSSO CANAL DE ATENDIMENTO VIA  *LINK*</th>\n",
              "      <td>170</td>\n",
              "    </tr>\n",
              "    <tr>\n",
              "      <th>TIMEOUT</th>\n",
              "      <td>88</td>\n",
              "    </tr>\n",
              "    <tr>\n",
              "      <th>SENHA PARA SAQUE SEM CARTÃO INVÃLIDA</th>\n",
              "      <td>50</td>\n",
              "    </tr>\n",
              "    <tr>\n",
              "      <th>BAD GATEWAY</th>\n",
              "      <td>11</td>\n",
              "    </tr>\n",
              "    <tr>\n",
              "      <th rowspan=\"11\" valign=\"top\">1</th>\n",
              "      <th>ÃREA DE TRANSFÃRENCIA INDISPONÃVEL NO MOMENTO.</th>\n",
              "      <td>920</td>\n",
              "    </tr>\n",
              "    <tr>\n",
              "      <th>LIMITE DIÃRIO DE TRANSFERÃNCIA EXCEDIDO.</th>\n",
              "      <td>800</td>\n",
              "    </tr>\n",
              "    <tr>\n",
              "      <th>NÃO FOI POSSÃVEL OBTER SEU SALDO EM CONTA NO MOMENTO.</th>\n",
              "      <td>600</td>\n",
              "    </tr>\n",
              "    <tr>\n",
              "      <th>CONTA DESTINO INCOMPLETA, FAVOR CONFIRMAR DADOS PARA ENVIO.</th>\n",
              "      <td>480</td>\n",
              "    </tr>\n",
              "    <tr>\n",
              "      <th>ÃREA DE EXTRATO INDISPONÃVEL NO MOMENTO.</th>\n",
              "      <td>480</td>\n",
              "    </tr>\n",
              "    <tr>\n",
              "      <th>ÃREA DE PAGAMENTO INDISPONÃVEL NO MOMENTO.</th>\n",
              "      <td>440</td>\n",
              "    </tr>\n",
              "    <tr>\n",
              "      <th>NO MOMENTO ESTE SERIVCO ESTA INDISPONIVEL. POR FAVOR TENTE NOVAMENTE MAIS TARDE.</th>\n",
              "      <td>289</td>\n",
              "    </tr>\n",
              "    <tr>\n",
              "      <th>SALDO EM CONTA INSUFICIENTE, VERIFICAR VALOR.</th>\n",
              "      <td>280</td>\n",
              "    </tr>\n",
              "    <tr>\n",
              "      <th>ERRO INTERNO SERVIDOR</th>\n",
              "      <td>194</td>\n",
              "    </tr>\n",
              "    <tr>\n",
              "      <th>TIMEOUT</th>\n",
              "      <td>88</td>\n",
              "    </tr>\n",
              "    <tr>\n",
              "      <th>BAD GATEWAY</th>\n",
              "      <td>15</td>\n",
              "    </tr>\n",
              "    <tr>\n",
              "      <th rowspan=\"15\" valign=\"top\">0</th>\n",
              "      <th>TOKEN INCORRETO, POR FAVOR CONFIRMAR DADOS INSERIDOS</th>\n",
              "      <td>1000</td>\n",
              "    </tr>\n",
              "    <tr>\n",
              "      <th>NÃO FOI POSSÃVEL AUTENTICAR O SEU ACESSO (Aplicativo de defesa) PERMISSION DENIED</th>\n",
              "      <td>600</td>\n",
              "    </tr>\n",
              "    <tr>\n",
              "      <th>SENHA INCORRETA</th>\n",
              "      <td>600</td>\n",
              "    </tr>\n",
              "    <tr>\n",
              "      <th>ACESSO BLOQUEADO, PARA DESBLOQUEAR ENTRE EM CONTATO COM NOSSO CANAL DE ATENDIMENTO VIA *LINK*</th>\n",
              "      <td>400</td>\n",
              "    </tr>\n",
              "    <tr>\n",
              "      <th>E-MAIL OU CPF NÃO CADASTRADOS</th>\n",
              "      <td>400</td>\n",
              "    </tr>\n",
              "    <tr>\n",
              "      <th>CPF OU CNPJ INVÃLIDO, CONFIRMAR DADOS INSERIDOS.</th>\n",
              "      <td>320</td>\n",
              "    </tr>\n",
              "    <tr>\n",
              "      <th>NO MOMENTO ESTE SERIVCO ESTA INDISPONIVEL. POR FAVOR TENTE NOVAMENTE MAIS TARDE.</th>\n",
              "      <td>320</td>\n",
              "    </tr>\n",
              "    <tr>\n",
              "      <th>ACESSO NEGADO, ENTRE EM CONTATO COM NOSSO CANAL DE ATENDIMENTO VIA *LINK*</th>\n",
              "      <td>200</td>\n",
              "    </tr>\n",
              "    <tr>\n",
              "      <th>VERSÃO DE APLICATIVO DESATUALIZADO, FAVOR REALIZE O DOWNLOAD DE NOVA VERSÃO EM SUA APP STORE</th>\n",
              "      <td>200</td>\n",
              "    </tr>\n",
              "    <tr>\n",
              "      <th>ERRO INTERNO SERVIDOR</th>\n",
              "      <td>182</td>\n",
              "    </tr>\n",
              "    <tr>\n",
              "      <th>NOME NÃO PODE TER CARACTERES ESPECIAIS</th>\n",
              "      <td>160</td>\n",
              "    </tr>\n",
              "    <tr>\n",
              "      <th>TODOS OS CAMPOS DEVEM SER PREENCHIDOS PARA CONCLUSÃO DE CADASTRO</th>\n",
              "      <td>120</td>\n",
              "    </tr>\n",
              "    <tr>\n",
              "      <th>TIMEOUT</th>\n",
              "      <td>100</td>\n",
              "    </tr>\n",
              "    <tr>\n",
              "      <th>VERSÃO DE SISTEMA OPERACIONAL NÃO SUPORTADA</th>\n",
              "      <td>60</td>\n",
              "    </tr>\n",
              "    <tr>\n",
              "      <th>BAD GATEWAY</th>\n",
              "      <td>12</td>\n",
              "    </tr>\n",
              "  </tbody>\n",
              "</table>\n",
              "</div>\n",
              "      <button class=\"colab-df-convert\" onclick=\"convertToInteractive('df-b1def106-d997-4e1c-af93-e508161d2bfd')\"\n",
              "              title=\"Convert this dataframe to an interactive table.\"\n",
              "              style=\"display:none;\">\n",
              "        \n",
              "  <svg xmlns=\"http://www.w3.org/2000/svg\" height=\"24px\"viewBox=\"0 0 24 24\"\n",
              "       width=\"24px\">\n",
              "    <path d=\"M0 0h24v24H0V0z\" fill=\"none\"/>\n",
              "    <path d=\"M18.56 5.44l.94 2.06.94-2.06 2.06-.94-2.06-.94-.94-2.06-.94 2.06-2.06.94zm-11 1L8.5 8.5l.94-2.06 2.06-.94-2.06-.94L8.5 2.5l-.94 2.06-2.06.94zm10 10l.94 2.06.94-2.06 2.06-.94-2.06-.94-.94-2.06-.94 2.06-2.06.94z\"/><path d=\"M17.41 7.96l-1.37-1.37c-.4-.4-.92-.59-1.43-.59-.52 0-1.04.2-1.43.59L10.3 9.45l-7.72 7.72c-.78.78-.78 2.05 0 2.83L4 21.41c.39.39.9.59 1.41.59.51 0 1.02-.2 1.41-.59l7.78-7.78 2.81-2.81c.8-.78.8-2.07 0-2.86zM5.41 20L4 18.59l7.72-7.72 1.47 1.35L5.41 20z\"/>\n",
              "  </svg>\n",
              "      </button>\n",
              "      \n",
              "  <style>\n",
              "    .colab-df-container {\n",
              "      display:flex;\n",
              "      flex-wrap:wrap;\n",
              "      gap: 12px;\n",
              "    }\n",
              "\n",
              "    .colab-df-convert {\n",
              "      background-color: #E8F0FE;\n",
              "      border: none;\n",
              "      border-radius: 50%;\n",
              "      cursor: pointer;\n",
              "      display: none;\n",
              "      fill: #1967D2;\n",
              "      height: 32px;\n",
              "      padding: 0 0 0 0;\n",
              "      width: 32px;\n",
              "    }\n",
              "\n",
              "    .colab-df-convert:hover {\n",
              "      background-color: #E2EBFA;\n",
              "      box-shadow: 0px 1px 2px rgba(60, 64, 67, 0.3), 0px 1px 3px 1px rgba(60, 64, 67, 0.15);\n",
              "      fill: #174EA6;\n",
              "    }\n",
              "\n",
              "    [theme=dark] .colab-df-convert {\n",
              "      background-color: #3B4455;\n",
              "      fill: #D2E3FC;\n",
              "    }\n",
              "\n",
              "    [theme=dark] .colab-df-convert:hover {\n",
              "      background-color: #434B5C;\n",
              "      box-shadow: 0px 1px 3px 1px rgba(0, 0, 0, 0.15);\n",
              "      filter: drop-shadow(0px 1px 2px rgba(0, 0, 0, 0.3));\n",
              "      fill: #FFFFFF;\n",
              "    }\n",
              "  </style>\n",
              "\n",
              "      <script>\n",
              "        const buttonEl =\n",
              "          document.querySelector('#df-b1def106-d997-4e1c-af93-e508161d2bfd button.colab-df-convert');\n",
              "        buttonEl.style.display =\n",
              "          google.colab.kernel.accessAllowed ? 'block' : 'none';\n",
              "\n",
              "        async function convertToInteractive(key) {\n",
              "          const element = document.querySelector('#df-b1def106-d997-4e1c-af93-e508161d2bfd');\n",
              "          const dataTable =\n",
              "            await google.colab.kernel.invokeFunction('convertToInteractive',\n",
              "                                                     [key], {});\n",
              "          if (!dataTable) return;\n",
              "\n",
              "          const docLinkHtml = 'Like what you see? Visit the ' +\n",
              "            '<a target=\"_blank\" href=https://colab.research.google.com/notebooks/data_table.ipynb>data table notebook</a>'\n",
              "            + ' to learn more about interactive tables.';\n",
              "          element.innerHTML = '';\n",
              "          dataTable['output_type'] = 'display_data';\n",
              "          await google.colab.output.renderOutput(dataTable, element);\n",
              "          const docLink = document.createElement('div');\n",
              "          docLink.innerHTML = docLinkHtml;\n",
              "          element.appendChild(docLink);\n",
              "        }\n",
              "      </script>\n",
              "    </div>\n",
              "  </div>\n",
              "  "
            ]
          },
          "metadata": {},
          "execution_count": 34
        }
      ]
    },
    {
      "cell_type": "code",
      "source": [
        "dados_avaliacoes.columns"
      ],
      "metadata": {
        "colab": {
          "base_uri": "https://localhost:8080/"
        },
        "id": "uc7z7TyjVKAy",
        "outputId": "c33b377d-ba35-46c7-b168-d4811b7c8e37"
      },
      "execution_count": null,
      "outputs": [
        {
          "output_type": "execute_result",
          "data": {
            "text/plain": [
              "Index(['ï»¿idEntrada', 'sistemaOperacional', 'statusSaida', 'paginaSaida',\n",
              "       'avaliacao', 'dataErro', 'horaErro', 'tempoAcesso', 'codigo', 'erro'],\n",
              "      dtype='object')"
            ]
          },
          "metadata": {},
          "execution_count": 31
        }
      ]
    },
    {
      "cell_type": "markdown",
      "source": [
        "O que podemos perceber primeiramente é que em todas as páginas de saída a quantidade de avaliação negativa é majoritária, com a avaliação positiva e n/avaliado alternando a depender do número da página. Estatisticamente, as análises negativas representam em torno de 50% das avaliações de cada página, o que está de acordo com nossa análise univariada feita da avaliação. "
      ],
      "metadata": {
        "id": "k3lHImA18jOb"
      }
    },
    {
      "cell_type": "markdown",
      "source": [
        "# **Análise 8:** codigo, erro"
      ],
      "metadata": {
        "id": "oQEutgtL9I2l"
      }
    },
    {
      "cell_type": "markdown",
      "source": [
        "Essa análise nos auxilia a entender quais erros acontecem para os dois códigos que existem de erro. Sendo importante pois nos ajuda a detalhar melhor o erro e conhecer mais profundamente a causa de cada erro."
      ],
      "metadata": {
        "id": "6NOuxGXN9OEL"
      }
    },
    {
      "cell_type": "code",
      "source": [
        "analise_bivariada('codigo', 'erro')"
      ],
      "metadata": {
        "id": "shKRRAdinUkv"
      },
      "execution_count": null,
      "outputs": []
    },
    {
      "cell_type": "markdown",
      "source": [
        "Podemos perceber que para o erro 550, ocorre uma grande quantidade de erros relativos ao banco de dados, sendo 'Não encontrou Dados para a seleção' o segundo erro mais comum para esse código, e que ao comparado junto com o 'erro na validação de dados complementares e 'erro na validação de dados básicos' representam em torno de 40% dos erros do código 550. Quando comparamos o erro 500, notamos que o erro mais frequente com uma boa margem é o 'desculpe, tivemos um problema e não conseguimos realizar essa operação' o que demanda um estudo para solucioná-lo. Também percebe-se que os erros do código 500 são geralmente devido a erros de conexão com o servidor. "
      ],
      "metadata": {
        "id": "ZIvP_4ZrFiaz"
      }
    },
    {
      "cell_type": "markdown",
      "source": [
        "# **Análise 12:** erro, avaliação"
      ],
      "metadata": {
        "id": "n71IU4oiJmX-"
      }
    },
    {
      "cell_type": "markdown",
      "source": [
        "# **Análise 9:** usuarioOnline, codigo"
      ],
      "metadata": {
        "id": "LBq94e9fG1mM"
      }
    },
    {
      "cell_type": "markdown",
      "source": [
        "Como o nosso banco de dados é dividido para usuários online e offline, é preferível que se analíse os códigos do erro para cada divisão, ainda mais pois alguns códigos possuem erros que são provenientes de erro de conexão. "
      ],
      "metadata": {
        "id": "Ddt3HQAyG8b3"
      }
    },
    {
      "cell_type": "code",
      "source": [
        "analise_bivariada('usuarioOnline', 'codigo')"
      ],
      "metadata": {
        "id": "gjjXvyTVoGBE",
        "colab": {
          "base_uri": "https://localhost:8080/"
        },
        "outputId": "fde7e2d6-49f0-4b68-f063-6a763f783bb1"
      },
      "execution_count": null,
      "outputs": [
        {
          "output_type": "stream",
          "name": "stdout",
          "text": [
            "Coluna1 não existe\n"
          ]
        }
      ]
    },
    {
      "cell_type": "markdown",
      "source": [
        "Tanto para usuários online quanto offline percebe-se que o código mais comum, com uma leve margem, é o 550, o que está de acordo com nossa análise univariada. "
      ],
      "metadata": {
        "id": "-3v7FScVHQ6N"
      }
    },
    {
      "cell_type": "markdown",
      "source": [
        "# **Análise 10:** usuarioOnline, erro"
      ],
      "metadata": {
        "id": "K6DDuECRHje2"
      }
    },
    {
      "cell_type": "markdown",
      "source": [
        "Assim como analisamos a caluna usuarioOnline, código, a análise com a coluna erro se faz necessária para se entender quais erros são causados para os usuários online que podem aprensentar problemas de conexão. "
      ],
      "metadata": {
        "id": "xVVrIHNAHntG"
      }
    },
    {
      "cell_type": "code",
      "source": [
        "analise_bivariada('usuarioOnline', 'erro')"
      ],
      "metadata": {
        "id": "hUUbePxSoVFm",
        "colab": {
          "base_uri": "https://localhost:8080/"
        },
        "outputId": "9f914bda-7402-45a6-f563-7937c14ddd51"
      },
      "execution_count": null,
      "outputs": [
        {
          "output_type": "stream",
          "name": "stdout",
          "text": [
            "                                                                  quantidade\n",
            "usuarioOnline erro                                                          \n",
            "1.0           \"NO MOMENTO ESTE SERIVCO ESTA INDISPONIVEL. POR...          56\n",
            "              \"NAO ENCONTROU DADOS PARA A SELECAO\"                        37\n",
            "              \"DESCULPE TIVEMOS UM PROBLEMA E NAO CONSEGUIMOS...          34\n",
            "              \"CPF -CNPJ CLIENTE NAO CADASTRADO\"                          19\n",
            "              \"CHAVE PIX INCORRETA\"                                       18\n",
            "              \"OPS! NÃO FOI POSSIVEL CONSULTAR O SALDO. TENTE...          18\n",
            "              \"ERRO AO EXECUTAR SERVICO: REQUESTCREDITSERVICE\"            16\n",
            "              \"INTERNAL SERVER ERROR\"                                     16\n",
            "              \"ERRO NA VALIDACAO DE DADOS COMPLEMENTARES\"                 15\n",
            "              \"CLIENTE NAO CADASTRADO\"                                    13\n",
            "              \"ERRO NA VALIDACAO DE DADOS BASICOS\"                        12\n",
            "0.0           \"NO MOMENTO ESTE SERIVCO ESTA INDISPONIVEL. POR...         142\n",
            "              \"NAO ENCONTROU DADOS PARA A SELECAO\"                       101\n",
            "              \"DESCULPE TIVEMOS UM PROBLEMA E NAO CONSEGUIMOS...          97\n",
            "              \"CPF -CNPJ CLIENTE NAO CADASTRADO\"                          54\n",
            "              \"OPS! NÃO FOI POSSIVEL CONSULTAR O SALDO. TENTE...          54\n",
            "              \"INTERNAL SERVER ERROR\"                                     52\n",
            "              \"CLIENTE NAO CADASTRADO\"                                    50\n",
            "              \"ERRO NA VALIDACAO DE DADOS COMPLEMENTARES\"                 49\n",
            "              \"ERRO NA VALIDACAO DE DADOS BASICOS\"                        48\n",
            "              \"ERRO AO EXECUTAR SERVICO: REQUESTCREDITSERVICE\"            40\n",
            "              \"CHAVE PIX INCORRETA\"                                       34\n",
            "              \"SENHA INCORRETA\"                                           25\n"
          ]
        }
      ]
    },
    {
      "cell_type": "markdown",
      "source": [
        "O que mais relevante conseguimos notar ao comparar cada erro para usuários online e offline é que o erro \"Chave Pix incorreta\" possui uma frequência muito maior para usuários online do que offline, sendo que para os usuários online é o quinto erro mais frequento, enquanto para os usuários offline é apenas o segundos menos frequente. Isso indica que para os usuários online, algum problema estrutural do aplicativo do AG0 pode estar ocasionando esse erro. "
      ],
      "metadata": {
        "id": "vUhga0mQIV3O"
      }
    },
    {
      "cell_type": "markdown",
      "source": [
        "# **Análise 11:** UsuarioOnline, avaliação"
      ],
      "metadata": {
        "id": "ngLFh-6uI2ka"
      }
    },
    {
      "cell_type": "markdown",
      "source": [
        "Essa análise demonstra se existe alguma disparidade entre a experiência de navegação para os usuários online e não online que pode ser mostrada pela avaliação. "
      ],
      "metadata": {
        "id": "3-4Ydf0nI71K"
      }
    },
    {
      "cell_type": "code",
      "source": [
        "analise_bivariada('usuarioOnline', 'avaliacao.r')"
      ],
      "metadata": {
        "id": "9THNRnKSpG6v",
        "colab": {
          "base_uri": "https://localhost:8080/"
        },
        "outputId": "439e4ca9-7c97-4848-bedb-f83f07854f3a"
      },
      "execution_count": null,
      "outputs": [
        {
          "output_type": "stream",
          "name": "stdout",
          "text": [
            "                           quantidade\n",
            "usuarioOnline avaliacao.r            \n",
            "1.0           negativa            130\n",
            "              positiva             63\n",
            "              n/ avaliado          61\n",
            "0.0           negativa            380\n",
            "              positiva            188\n",
            "              n/ avaliado         178\n"
          ]
        }
      ]
    },
    {
      "cell_type": "markdown",
      "source": [
        "Segundo essa análise, ambas as navegações online e offline apresentam em torno de 50% de avaliações negativas, o que é compatível com nossa análise univariada de avaliação. A princípio a experiência de navegação para online e offline são semelhantes. "
      ],
      "metadata": {
        "id": "wAsHrQmyJO3L"
      }
    },
    {
      "cell_type": "markdown",
      "source": [
        "Essa análise busca entender o quanto cada erro afeta o usuário e sua avaliação do AG0. Alguns erros podem ser apenas momentâneos e não impactar tão negativamente a navegação quanto outros erros que impossibilitam que o usuário realize a ação."
      ],
      "metadata": {
        "id": "vGTZuPhSKAcB"
      }
    },
    {
      "cell_type": "code",
      "source": [
        "analise_bivariada('erro', 'avaliacao')"
      ],
      "metadata": {
        "colab": {
          "base_uri": "https://localhost:8080/"
        },
        "id": "TcuDxL__qP0w",
        "outputId": "77aef214-bd81-4c6a-9124-3e1b0e5812d4"
      },
      "execution_count": null,
      "outputs": [
        {
          "output_type": "stream",
          "name": "stdout",
          "text": [
            "Coluna2 não existe\n"
          ]
        }
      ]
    },
    {
      "cell_type": "markdown",
      "source": [
        "Novamente o que já foi constatado se repete nessa análise, as avaliações negativas para cada erro no geral representam em torno de 50% do grupo. Percebe-se que para alguns erros, as avaliações negativas chegam a ser 3 vezes maiores que as positivas, entretanto para outros erros, essa margem cai para menos de 1,5 vez mais, como no erro \"OPS! NÃO FOI POSSIVEL CONSULTAR O SALDO. TENTE NOVAMENTE MAIS TARDE\". Essa análise pode servir como um mapa de prioridades para a melhoria do aplicativo. "
      ],
      "metadata": {
        "id": "BFThBUdUKaSx"
      }
    },
    {
      "cell_type": "markdown",
      "source": [
        "# **Análise 13:** código, avaliação"
      ],
      "metadata": {
        "id": "vgkAVp_VLI7D"
      }
    },
    {
      "cell_type": "markdown",
      "source": [
        "Essa análise e semlhante a (erro, avaliação), buscando detalhar o quanto cada código de erro influencia a experiência do usuário. "
      ],
      "metadata": {
        "id": "wyGCy1AoLdbT"
      }
    },
    {
      "cell_type": "code",
      "source": [
        "analise_bivariada('codigo', 'avaliacao.r')"
      ],
      "metadata": {
        "id": "Nad71aQ1qfIR",
        "colab": {
          "base_uri": "https://localhost:8080/"
        },
        "outputId": "b21a799d-87ad-4351-cf2b-1cfe622ecf65"
      },
      "execution_count": null,
      "outputs": [
        {
          "output_type": "stream",
          "name": "stdout",
          "text": [
            "                    quantidade\n",
            "codigo avaliacao.r            \n",
            "550.0  negativa            272\n",
            "       n/ avaliado         140\n",
            "       positiva            121\n",
            "500.0  negativa            238\n",
            "       positiva            130\n",
            "       n/ avaliado          99\n"
          ]
        }
      ]
    },
    {
      "cell_type": "markdown",
      "source": [
        "O que se percebe é que para os erros com o código 550, os usuário tem uma maior chance de não avaliar o aplicativo, o que explica as avaliações positivas serem a menos frequente de todas. Já para o código 500, as avaliações positivas são a segunda menos frequente. Como não se sabe se os não avaliados tiveram uma experiência positiva ou negativa, o banco deve buscar entender o porquê de tantos usuários não avaliarem a experiência quando o erro 550 acontece.  "
      ],
      "metadata": {
        "id": "eK0LTs2DL1L1"
      }
    },
    {
      "cell_type": "markdown",
      "source": [
        "# **Análise 14:** usuárioOnline, tempoAcesso"
      ],
      "metadata": {
        "id": "i6SAT3ONMgwY"
      }
    },
    {
      "cell_type": "markdown",
      "source": [
        "Essa avaliação busca entender as medidas estatísticas do tempo de acesso para os usuários Online e offline do aplicativo. Podemos conhecer os quartis médios de tempo de acesso para cada grupo. "
      ],
      "metadata": {
        "id": "-sii-pT_Mop9"
      }
    },
    {
      "cell_type": "code",
      "source": [
        "dados_avaliacoes\n",
        "df = dados_avaliacoes[['usuarioOnline', 'tempoAcesso']]\n",
        "df['quantidade'] = 0\n",
        "print(df.groupby('usuarioOnline')['tempoAcesso'].describe())"
      ],
      "metadata": {
        "id": "VjhDnn2qOfHA"
      },
      "execution_count": null,
      "outputs": []
    },
    {
      "cell_type": "markdown",
      "source": [
        "O que podemos notar é que os usuários online tiveram em média um maior tempo de acesso do que usuários offline, o que se comprova tanto pela estatística da média do tempo, quanto pelo primeiro, segundo e terceiro quartil. O tempo mínimo e máximo dos usuários offline também é são menores. Uma teoria para explicar isso é de que os usuário navegando online precisam de mais tempo para realizar uma atividade do que navegando offline, por isso gastam mais tempo. "
      ],
      "metadata": {
        "id": "3PmCz4sCNJDI"
      }
    },
    {
      "cell_type": "markdown",
      "source": [
        "# **Análise 15:** avaliação, tempoAcesso"
      ],
      "metadata": {
        "id": "JiuAJ53fODPk"
      }
    },
    {
      "cell_type": "markdown",
      "source": [
        "Essa análise serve para entender quanto a experiência de navegação do usuário influencia no tempo de acesso do aplicativo."
      ],
      "metadata": {
        "id": "ZJ9OgwNnOSWr"
      }
    },
    {
      "cell_type": "code",
      "source": [
        "dados_avaliacoes\n",
        "df = dados_avaliacoes[['avaliacao.r', 'tempoAcesso']]\n",
        "df['quantidade'] = 0\n",
        "print(df.groupby('avaliacao.r')['tempoAcesso'].describe())"
      ],
      "metadata": {
        "colab": {
          "base_uri": "https://localhost:8080/"
        },
        "id": "N9lNAF0pOj31",
        "outputId": "29522f24-324c-42b3-b643-7ec43965710f"
      },
      "execution_count": null,
      "outputs": [
        {
          "output_type": "stream",
          "name": "stdout",
          "text": [
            "             count        mean         std  min     25%    50%     75%    max\n",
            "avaliacao.r                                                                  \n",
            "n/ avaliado  234.0  239.294872  117.048514  1.0  155.75  236.0  312.25  629.0\n",
            "negativa     500.0  247.808000  114.611705  4.0  167.75  247.5  333.25  549.0\n",
            "positiva     247.0  253.732794  108.359841  7.0  185.50  252.0  309.00  562.0\n"
          ]
        },
        {
          "output_type": "stream",
          "name": "stderr",
          "text": [
            "/usr/local/lib/python3.7/dist-packages/ipykernel_launcher.py:3: SettingWithCopyWarning: \n",
            "A value is trying to be set on a copy of a slice from a DataFrame.\n",
            "Try using .loc[row_indexer,col_indexer] = value instead\n",
            "\n",
            "See the caveats in the documentation: https://pandas.pydata.org/pandas-docs/stable/user_guide/indexing.html#returning-a-view-versus-a-copy\n",
            "  This is separate from the ipykernel package so we can avoid doing imports until\n"
          ]
        }
      ]
    },
    {
      "cell_type": "markdown",
      "source": [
        "Podemos notar que os usuários que tiveram uma navegação positiva segunda a avaliação costumam dispender um tempo maior utilizando o aplicativo. O que pode ser comprovado pela média e por todos os quartis. Isso pode significar também que os usuários que avaliaram negativamente o aplicativo tenham desistido da navegação antes de terem realizado a ação que originalmente desejavam. "
      ],
      "metadata": {
        "id": "EBhhIz_3Orwp"
      }
    },
    {
      "cell_type": "markdown",
      "source": [
        "# **Análise 16:** erro, tempoAcesso"
      ],
      "metadata": {
        "id": "dx6MG1CUPags"
      }
    },
    {
      "cell_type": "markdown",
      "source": [
        "Novamente buscamos as estatísticas de tempo de acesso, dessa vez em conjunto com a coluna erro. Assim podemos perceber se um erro ocasiona que o usuário saia do aplicativo, ou se um erro ocorre logo no início do acesso no aplicativo, o que ocasionaria uma média de tempo de acesso menor."
      ],
      "metadata": {
        "id": "kLO1677VPjUJ"
      }
    },
    {
      "cell_type": "code",
      "source": [
        "dados_avaliacoes\n",
        "df = dados_avaliacoes[['erro', 'tempoAcesso']]\n",
        "df['quantidade'] = 0\n",
        "print(df.groupby('erro')['tempoAcesso'].describe())"
      ],
      "metadata": {
        "id": "d14DMRBOQBnL",
        "colab": {
          "base_uri": "https://localhost:8080/"
        },
        "outputId": "c77c31ec-7f93-4c15-a4c1-5c59e66402bd"
      },
      "execution_count": null,
      "outputs": [
        {
          "output_type": "stream",
          "name": "stdout",
          "text": [
            "                                                    count        mean  \\\n",
            "erro                                                                    \n",
            "\"CHAVE PIX INCORRETA\"                                50.0  241.060000   \n",
            "\"CLIENTE NAO CADASTRADO\"                             60.0  251.416667   \n",
            "\"CPF -CNPJ CLIENTE NAO CADASTRADO\"                   72.0  254.750000   \n",
            "\"DESCULPE TIVEMOS UM PROBLEMA E NAO CONSEGUIMOS...  127.0  239.779528   \n",
            "\"ERRO AO EXECUTAR SERVICO: REQUESTCREDITSERVICE\"     55.0  256.509091   \n",
            "\"ERRO NA VALIDACAO DE DADOS BASICOS\"                 60.0  224.400000   \n",
            "\"ERRO NA VALIDACAO DE DADOS COMPLEMENTARES\"          63.0  235.031746   \n",
            "\"INTERNAL SERVER ERROR\"                              67.0  234.701493   \n",
            "\"NAO ENCONTROU DADOS PARA A SELECAO\"                136.0  250.977941   \n",
            "\"NO MOMENTO ESTE SERIVCO ESTA INDISPONIVEL. POR...  196.0  254.739796   \n",
            "\"OPS! NÃO FOI POSSIVEL CONSULTAR O SALDO. TENTE...   71.0  261.718310   \n",
            "\"SENHA INCORRETA\"                                    24.0  245.458333   \n",
            "\n",
            "                                                           std   min     25%  \\\n",
            "erro                                                                           \n",
            "\"CHAVE PIX INCORRETA\"                               104.521145   9.0  149.00   \n",
            "\"CLIENTE NAO CADASTRADO\"                            107.886835   7.0  181.00   \n",
            "\"CPF -CNPJ CLIENTE NAO CADASTRADO\"                  118.806239   5.0  168.75   \n",
            "\"DESCULPE TIVEMOS UM PROBLEMA E NAO CONSEGUIMOS...  112.713213  17.0  159.50   \n",
            "\"ERRO AO EXECUTAR SERVICO: REQUESTCREDITSERVICE\"    125.156328  65.0  166.50   \n",
            "\"ERRO NA VALIDACAO DE DADOS BASICOS\"                101.379669  33.0  149.25   \n",
            "\"ERRO NA VALIDACAO DE DADOS COMPLEMENTARES\"         114.350899  40.0  153.00   \n",
            "\"INTERNAL SERVER ERROR\"                             107.720460   4.0  172.00   \n",
            "\"NAO ENCONTROU DADOS PARA A SELECAO\"                112.930557   5.0  172.50   \n",
            "\"NO MOMENTO ESTE SERIVCO ESTA INDISPONIVEL. POR...  122.937836   1.0  172.50   \n",
            "\"OPS! NÃO FOI POSSIVEL CONSULTAR O SALDO. TENTE...  101.656731  67.0  186.50   \n",
            "\"SENHA INCORRETA\"                                   117.376384   7.0  204.25   \n",
            "\n",
            "                                                      50%     75%    max  \n",
            "erro                                                                      \n",
            "\"CHAVE PIX INCORRETA\"                               246.5  328.00  426.0  \n",
            "\"CLIENTE NAO CADASTRADO\"                            251.0  309.25  516.0  \n",
            "\"CPF -CNPJ CLIENTE NAO CADASTRADO\"                  261.5  325.25  517.0  \n",
            "\"DESCULPE TIVEMOS UM PROBLEMA E NAO CONSEGUIMOS...  248.0  311.00  539.0  \n",
            "\"ERRO AO EXECUTAR SERVICO: REQUESTCREDITSERVICE\"    236.0  332.00  629.0  \n",
            "\"ERRO NA VALIDACAO DE DADOS BASICOS\"                238.0  293.50  439.0  \n",
            "\"ERRO NA VALIDACAO DE DADOS COMPLEMENTARES\"         212.0  305.00  535.0  \n",
            "\"INTERNAL SERVER ERROR\"                             229.0  320.00  480.0  \n",
            "\"NAO ENCONTROU DADOS PARA A SELECAO\"                239.0  317.50  549.0  \n",
            "\"NO MOMENTO ESTE SERIVCO ESTA INDISPONIVEL. POR...  254.0  331.75  563.0  \n",
            "\"OPS! NÃO FOI POSSIVEL CONSULTAR O SALDO. TENTE...  237.0  349.50  474.0  \n",
            "\"SENHA INCORRETA\"                                   240.0  317.50  499.0  \n"
          ]
        },
        {
          "output_type": "stream",
          "name": "stderr",
          "text": [
            "/usr/local/lib/python3.7/dist-packages/ipykernel_launcher.py:3: SettingWithCopyWarning: \n",
            "A value is trying to be set on a copy of a slice from a DataFrame.\n",
            "Try using .loc[row_indexer,col_indexer] = value instead\n",
            "\n",
            "See the caveats in the documentation: https://pandas.pydata.org/pandas-docs/stable/user_guide/indexing.html#returning-a-view-versus-a-copy\n",
            "  This is separate from the ipykernel package so we can avoid doing imports until\n"
          ]
        }
      ]
    },
    {
      "cell_type": "markdown",
      "source": [
        "A estatística da média do tempo de uso para cada erro é semelhante e não nos informa nada. Entretanto um dado muito relevante é o tempo mínimo de uso em cada erro. Alguns erros tem um tempo mínimo muito baixo, como \"NO MOMENTO ESTE SERIVCO ESTA INDISPONIVEL...\", que possui um tempo mínimo de 1 segundo. Outros erros possuem um tempo mínimo relativamente alto, como o \"\"ERRO AO EXECUTAR SERVICO: REQUESTCREDITSERVICE\", que possui 65 segundos de tempo mínimo, o que indica que esse erro  ocorre sempre no meio da navegação do usuário e não no início. "
      ],
      "metadata": {
        "id": "KNRrH81pQUWj"
      }
    },
    {
      "cell_type": "markdown",
      "source": [],
      "metadata": {
        "id": "vrOSufce1Cvh"
      }
    },
    {
      "cell_type": "markdown",
      "source": [
        "# **Análise 17:** páginaSaida, tempoAcesso"
      ],
      "metadata": {
        "id": "6VrfjYZiYfK0"
      }
    },
    {
      "cell_type": "markdown",
      "source": [
        "Com essa análise buscamos entender as estatísticas de tempo de acesso acossiada a pagina de saida. Se uma página possuir uma média maior, isso pode ser um indicativo de que a navegação não está muito intuitivam, se a média foi muito baixa, pode indicar que a navegação está sendo interrompida por um erro logo no início do uso."
      ],
      "metadata": {
        "id": "El5lrlCpYlOr"
      }
    },
    {
      "cell_type": "code",
      "source": [
        "dados_avaliacoes\n",
        "df = dados_avaliacoes[['paginaSaida', 'tempoAcesso']]\n",
        "df['quantidade'] = 0\n",
        "print(df.groupby('paginaSaida')['tempoAcesso'].describe())"
      ],
      "metadata": {
        "colab": {
          "base_uri": "https://localhost:8080/"
        },
        "id": "quVHglxJZOjT",
        "outputId": "c4317399-eab2-419a-e190-d6d10e71a8d3"
      },
      "execution_count": null,
      "outputs": [
        {
          "output_type": "stream",
          "name": "stdout",
          "text": [
            "             count        mean         std  min     25%    50%     75%    max\n",
            "paginaSaida                                                                  \n",
            "0.0          122.0  254.172131  111.736163  4.0  180.50  255.5  329.00  549.0\n",
            "1.0          247.0  252.910931  118.272835  7.0  171.00  248.0  338.00  629.0\n",
            "2.0          240.0  249.962500  113.703583  5.0  172.50  240.5  316.50  535.0\n",
            "3.0          252.0  241.916667  114.720434  7.0  158.25  241.5  316.00  563.0\n",
            "4.0          120.0  234.491667  103.447709  1.0  162.75  234.5  294.25  469.0\n"
          ]
        },
        {
          "output_type": "stream",
          "name": "stderr",
          "text": [
            "/usr/local/lib/python3.7/dist-packages/ipykernel_launcher.py:3: SettingWithCopyWarning: \n",
            "A value is trying to be set on a copy of a slice from a DataFrame.\n",
            "Try using .loc[row_indexer,col_indexer] = value instead\n",
            "\n",
            "See the caveats in the documentation: https://pandas.pydata.org/pandas-docs/stable/user_guide/indexing.html#returning-a-view-versus-a-copy\n",
            "  This is separate from the ipykernel package so we can avoid doing imports until\n"
          ]
        }
      ]
    },
    {
      "cell_type": "markdown",
      "source": [
        "O que podemos notar na avaliação é uma pequena disparidade estatística da pagina de saída 4, que apesar de possuir um tempo de acesso médio similar as outras páginas, possui um tempo mínimo de 1 segundo, um terceiro quartil relativamente menor do que as outras e um tempo máximo de acesso também menor. Isso pode indicar que a navegação para esse página está sendo interrompida por alguma razão, o que explica o tempo mínimo de 1 segundo. "
      ],
      "metadata": {
        "id": "uBtLYW0xZfLw"
      }
    }
  ]
}